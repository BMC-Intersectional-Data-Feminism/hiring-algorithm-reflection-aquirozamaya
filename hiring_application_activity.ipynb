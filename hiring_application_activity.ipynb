{
 "cells": [
  {
   "cell_type": "markdown",
   "metadata": {},
   "source": [
    "# Week 4 Activity: Reflection on a Hiring Filter Algorithm \n",
    "Activity adapted from exercise developed by [Evan Peck](https://evanpeck.github.io/)\n",
    "\n",
    "## Scenario: Moogle’s Hiring Filter\n",
    "Imagine you are working for Moogle, a well-known tech company that receives tens of thousands of job applications from graduating seniors every year. Since the company receives too many job applications for HR to individually assess in a reasonable amount of time, you are asked to create a program that algorithmically analyzes applications and selects the ones most worth passing onto HR.\n",
    "\n",
    "\n",
    "\n",
    "### Applicant Data\n",
    "It’s difficult to create these first-pass cuts, so Moogle designs their application forms to get some numerical data about their applicants’ education. Job applicants must enter the grades they received in 6 core CS courses, as well as their overall GPA. For your convenience, this will be stored in a python `list` that you can access. \n",
    "\n",
    "For example, a student who received the following scores. . .\n",
    "- Intro to CS: 100\n",
    "- Data Structures: 95\n",
    "- Software Engineering: 80\n",
    "- Algorithms: 89\n",
    "- Computer Organization: 91\n",
    "- Operative Systems: 75\n",
    "- Overall GPA: 83\n",
    "\n",
    ". . . would result in the following list: `[100, 95, 80, 89, 91, 75, 83]`. You can assume that index `0` is always Intro to CS, `1` is always Data Structures, and so on.\n",
    "\n",
    "Because you are processing many applications, your program will receive a list of lists. For example, this would be the information for 3 applicants:\n",
    "\n",
    "`[ [100, 95, 80, 89, 91, 75, 83], [75, 80, 85, 90, 85, 88, 90], [85, 70, 99, 100, 81, 82, 91] ]`"
   ]
  },
  {
   "cell_type": "markdown",
   "metadata": {},
   "source": [
    "Remember that a list is a collection of items that you can access by selecting the index of the item you want. You can also change a list, iterate over a list, and more. For this exercise we will be focusing on how to access items within a list and iterate over a list so that you can access each item individually. Let's practice that again here. "
   ]
  },
  {
   "cell_type": "code",
   "execution_count": 5,
   "metadata": {},
   "outputs": [
    {
     "name": "stdout",
     "output_type": "stream",
     "text": [
      "mango\n"
     ]
    }
   ],
   "source": [
    "## Given this example list below, how would you access the last item in the list?\n",
    "\n",
    "example_list = ['apple', 'banana', 'cherry', 'blueberry', 'kiwi', 'mango']\n",
    "\n",
    "# Your code here\n",
    "\n",
    "last_fruit = example_list[-1]\n",
    "print(last_fruit)"
   ]
  },
  {
   "cell_type": "code",
   "execution_count": 6,
   "metadata": {},
   "outputs": [
    {
     "name": "stdout",
     "output_type": "stream",
     "text": [
      "cherry\n"
     ]
    }
   ],
   "source": [
    "## Okay given, that same list, how could you select the third item in the list?\n",
    "\n",
    "# Your code here \n",
    "\n",
    "third_fruit = example_list[2]\n",
    "print(third_fruit)"
   ]
  },
  {
   "cell_type": "code",
   "execution_count": 13,
   "metadata": {},
   "outputs": [
    {
     "name": "stdout",
     "output_type": "stream",
     "text": [
      "apple has 5 characters\n",
      "banana has 6 characters\n",
      "cherry has 6 characters\n",
      "blueberry has 9 characters\n",
      "kiwi has 4 characters\n",
      "mango has 5 characters\n"
     ]
    }
   ],
   "source": [
    "## Finally let's try to do something with the items in the list. Let's say we want to print each item in the list \n",
    "# along with how many characters are in that item. For example, for \"apple\" we would want to print \"apple has 5 characters\". \n",
    "# How could we do that?\n",
    "\n",
    "# Your code here\n",
    "\n",
    "for fruit in example_list:\n",
    "    print(fruit, \"has\", len(fruit), \"characters\")"
   ]
  },
  {
   "cell_type": "markdown",
   "metadata": {},
   "source": [
    "Okay back to the task at hand!\n",
    "\n",
    "Your job is to:\n",
    "1. Determine how you are going to select the top applicants to pass onto HR.\n",
    "2. Given a list of applicant data (a list of lists), write code to identify a new list of worthwhile candidates."
   ]
  },
  {
   "cell_type": "markdown",
   "metadata": {},
   "source": [
    "### The Data \n",
    "\n",
    "Before we use the entire dataset of applications, we're going to write and test our code using a much smaller sample of the dataset. This will be saved in `sample_data` and contain only ten applicant lists. Notice how this is just a list of lists with each list being a unique applicant. "
   ]
  },
  {
   "cell_type": "code",
   "execution_count": 16,
   "metadata": {},
   "outputs": [],
   "source": [
    "sample_data = [[93, 89, 63, 88, 60, 73, 80], [100, 63, 57, 96, 58, 71, 78], [81, 91, 99, 78, 57, 87, 86], [81, 73, 100, 57, 91, 60, 66], [86, 89, 64, 81, 69, 93, 92], [78, 63, 88, 95, 59, 98, 90], [55, 74, 68, 55, 69, 94, 80], [64, 77, 75, 92, 77, 72, 83], [95, 58, 92, 62, 77, 64, 59], [94, 78, 84, 83, 68, 63, 76]]"
   ]
  },
  {
   "cell_type": "code",
   "execution_count": 17,
   "metadata": {},
   "outputs": [
    {
     "data": {
      "text/plain": [
       "10"
      ]
     },
     "execution_count": 17,
     "metadata": {},
     "output_type": "execute_result"
    }
   ],
   "source": [
    "len(sample_data)"
   ]
  },
  {
   "cell_type": "markdown",
   "metadata": {},
   "source": [
    "### Algorithms \n",
    "\n",
    "Your supervisor at Moogle has some ideas on how they'd like to filter out applicants, but they're not sure how useful each idea is. We are first going to write algorithms to select applicants based on a variety of decisions. For each one, take note of how many applicants are passed onto the next stage of the application process. \n",
    "\n",
    "1. Selects applicants that have an overall GPA above 80\n",
    "2. Selects applicants that have no grade below 65\n",
    "3. Selects applicants that have at least 3 grades above 80\n",
    "4. Selects applicants that have an average of the six classes above 85\n",
    "5. Your own algorithm to select applicants "
   ]
  },
  {
   "cell_type": "markdown",
   "metadata": {},
   "source": [
    "#### Scenario 1: Applicants that have an overall GPA above 80. \n",
    "\n",
    "Let's walk through this one together. We want to select just the students who have an overall GPA above 80. Which index in the list contains the GPA?"
   ]
  },
  {
   "cell_type": "code",
   "execution_count": 18,
   "metadata": {},
   "outputs": [],
   "source": [
    "gpa_index = -1 # which index contains the GPA?"
   ]
  },
  {
   "cell_type": "code",
   "execution_count": 22,
   "metadata": {},
   "outputs": [
    {
     "name": "stdout",
     "output_type": "stream",
     "text": [
      "Number of applicants selected: 4\n"
     ]
    }
   ],
   "source": [
    "## Now let's write a loop to go through each applicant in the sample data and check if their GPA is above 80. \n",
    "# If it is, we will add them to a new list called selection.\n",
    "\n",
    "selection = list() ## create a empty list to hold the selected applicants\n",
    "\n",
    "for applicant in sample_data:  ## loop through each applicant in the sample data\n",
    "    gpa = applicant[gpa_index] ## get the GPA for the applicant using the gpa_index variable you defined above\n",
    "    if gpa > 80: ## check if the GPA is above 80\n",
    "        selection.append(applicant) ## if it is, add the applicant to the selection list\n",
    "\n",
    "print(f\"Number of applicants selected: {len(selection)}\")\n"
   ]
  },
  {
   "cell_type": "markdown",
   "metadata": {},
   "source": [
    "#### How many applicants did we select with this filter? \n",
    "\n",
    "\n",
    "    We selected 4 applicants.\n",
    "\n",
    "\n",
    "What percentage of our total sample size is that?\n",
    "\n",
    "\n",
    "    That's 40% of our total sample size.\n",
    "\n",
    "\n"
   ]
  },
  {
   "cell_type": "markdown",
   "metadata": {},
   "source": [
    "#### Scenario 2: Applicants that have no grade below a 65. \n",
    "Let's try another potential algorithm where we select applicants that have no grade below a 65. \n",
    "\n",
    "Remember we want to collect our selected applicants in a list. "
   ]
  },
  {
   "cell_type": "code",
   "execution_count": 38,
   "metadata": {},
   "outputs": [
    {
     "name": "stdout",
     "output_type": "stream",
     "text": [
      "Number of applicants selected: 0\n"
     ]
    },
    {
     "data": {
      "text/plain": [
       "[]"
      ]
     },
     "execution_count": 38,
     "metadata": {},
     "output_type": "execute_result"
    }
   ],
   "source": [
    "## YOUR CODE HERE \n",
    "gpa_index = -1\n",
    "below_65 = False\n",
    "\n",
    "selection = list() ## create a list to hold the selected applicants\n",
    "\n",
    "for application in sample_data: ## loops through every applicant in sample data \n",
    "    grades = application[0:gpa_index]\n",
    "    \n",
    "    for grade in grades:\n",
    "       if grade < 65:\n",
    "           below_65 = True\n",
    "           break\n",
    "       else:\n",
    "           below_65 = False\n",
    "           \n",
    "    if below_65 == False:\n",
    "        selection.append(application)\n",
    "    \n",
    "\n",
    "print(f\"Number of applicants selected: {len(selection)}\")\n",
    "\n",
    "selection"
   ]
  },
  {
   "cell_type": "markdown",
   "metadata": {},
   "source": [
    "How many applicants did we select with this filter? \n",
    "\n",
    "\n",
    "    No Applicants\n",
    "\n",
    "\n",
    "What percentage of our total sample size is that?\n",
    "\n",
    "\n",
    "    0%\n",
    "\n"
   ]
  },
  {
   "cell_type": "markdown",
   "metadata": {},
   "source": [
    "#### Scenario 3: Applicants that have a least 3 grades above an 80.\n",
    "\n",
    "**Hint**: A counter can be useful here! "
   ]
  },
  {
   "cell_type": "code",
   "execution_count": 47,
   "metadata": {},
   "outputs": [
    {
     "name": "stdout",
     "output_type": "stream",
     "text": [
      "Number of applicants selected: 6\n"
     ]
    },
    {
     "data": {
      "text/plain": [
       "[[93, 89, 63, 88, 60, 73, 80],\n",
       " [81, 91, 99, 78, 57, 87, 86],\n",
       " [81, 73, 100, 57, 91, 60, 66],\n",
       " [86, 89, 64, 81, 69, 93, 92],\n",
       " [78, 63, 88, 95, 59, 98, 90],\n",
       " [94, 78, 84, 83, 68, 63, 76]]"
      ]
     },
     "execution_count": 47,
     "metadata": {},
     "output_type": "execute_result"
    }
   ],
   "source": [
    "gpa_index = -1\n",
    "\n",
    "selection = list() ## create a list to hold the selected applicants\n",
    "\n",
    "for application in sample_data: ## loops through every applicant in sample data \n",
    "    grades = application[0:gpa_index]\n",
    "    counter = 0\n",
    "    \n",
    "    for grade in grades:\n",
    "       if grade > 80:\n",
    "           counter += 1\n",
    "           \n",
    "    if counter >= 3:\n",
    "        selection.append(application)\n",
    "    \n",
    "\n",
    "print(f\"Number of applicants selected: {len(selection)}\")\n",
    "\n",
    "selection"
   ]
  },
  {
   "cell_type": "markdown",
   "metadata": {},
   "source": [
    "###### How many applicants did we select with this filter? \n",
    "\n",
    "\n",
    "    6 applicants\n",
    "\n",
    "\n",
    "What percentage of our total sample size is that?\n",
    "\n",
    "\n",
    "    60% of the total sample size\n",
    "\n"
   ]
  },
  {
   "cell_type": "markdown",
   "metadata": {},
   "source": [
    "#### Scenario 4: Applicants that have an average of the six classes above 85."
   ]
  },
  {
   "cell_type": "code",
   "execution_count": 49,
   "metadata": {},
   "outputs": [
    {
     "name": "stdout",
     "output_type": "stream",
     "text": [
      "Number of applicants selected: 3\n"
     ]
    },
    {
     "data": {
      "text/plain": [
       "[[81, 91, 99, 78, 57, 87, 86],\n",
       " [86, 89, 64, 81, 69, 93, 92],\n",
       " [78, 63, 88, 95, 59, 98, 90]]"
      ]
     },
     "execution_count": 49,
     "metadata": {},
     "output_type": "execute_result"
    }
   ],
   "source": [
    "## Your code here\n",
    "gpa_index = -1\n",
    "\n",
    "selection = list() ## create a empty list to hold the selected applicants\n",
    "\n",
    "for applicant in sample_data:  ## loop through each applicant in the sample data\n",
    "    gpa = applicant[gpa_index] ## get the GPA for the applicant using the gpa_index variable you defined above\n",
    "    if gpa > 85: ## check if the GPA is above 85\n",
    "        selection.append(applicant) ## if it is, add the applicant to the selection list\n",
    "\n",
    "print(f\"Number of applicants selected: {len(selection)}\")\n",
    "selection\n"
   ]
  },
  {
   "cell_type": "markdown",
   "metadata": {},
   "source": [
    "#### How many applicants did we select with this filter? \n",
    "\n",
    "\n",
    "    3 applicants\n",
    "\n",
    "\n",
    "What percentage of our total sample size is that?\n",
    "\n",
    "\n",
    "    30% of total sample size\n",
    "\n"
   ]
  },
  {
   "cell_type": "markdown",
   "metadata": {},
   "source": [
    "Now let's take a look at the entire dataset of 5,000 applications. This is saved in another file so we're going to go ahead and load this into memory and then take a look at the data. Notice that it's formatted exactly the same as the sample data as a list of lists!"
   ]
  },
  {
   "cell_type": "code",
   "execution_count": 58,
   "metadata": {},
   "outputs": [],
   "source": [
    "from applications import *"
   ]
  },
  {
   "cell_type": "code",
   "execution_count": 59,
   "metadata": {},
   "outputs": [],
   "source": [
    "#applications"
   ]
  },
  {
   "cell_type": "markdown",
   "metadata": {},
   "source": [
    "In the space below, work in group to decide what types of criteria you want to use to write an algorithm to select applicants. First test it with the sample data then run it with the entire set of applicants.  \n",
    "\n",
    "A useful piece of code that will give you the percentage of applicants you kept is: \n",
    "\n",
    "`print(\"Your algorithm kept\", round(len(selection)/len(applications)*100), \"percent of applicants\")`"
   ]
  },
  {
   "cell_type": "code",
   "execution_count": 62,
   "metadata": {},
   "outputs": [
    {
     "name": "stdout",
     "output_type": "stream",
     "text": [
      "Percentage of applicants with grades over 75: 3 percent of applicants\n"
     ]
    },
    {
     "data": {
      "text/plain": [
       "[[82, 96, 79, 89, 87, 93, 61],\n",
       " [87, 100, 93, 82, 87, 81, 83],\n",
       " [93, 91, 83, 75, 94, 81, 89],\n",
       " [92, 85, 90, 99, 87, 85, 79],\n",
       " [93, 99, 92, 91, 88, 91, 100],\n",
       " [79, 95, 95, 99, 87, 75, 57],\n",
       " [96, 91, 85, 91, 92, 80, 93],\n",
       " [98, 94, 95, 95, 76, 99, 90],\n",
       " [98, 84, 98, 77, 91, 94, 94],\n",
       " [100, 75, 92, 81, 79, 99, 83],\n",
       " [83, 79, 90, 82, 82, 91, 60],\n",
       " [94, 78, 79, 100, 76, 76, 91],\n",
       " [77, 83, 88, 91, 95, 81, 94],\n",
       " [93, 82, 78, 97, 92, 86, 81],\n",
       " [87, 99, 87, 80, 89, 95, 61],\n",
       " [95, 80, 84, 79, 85, 78, 99],\n",
       " [90, 96, 76, 94, 75, 82, 55],\n",
       " [96, 92, 96, 87, 84, 98, 100],\n",
       " [98, 80, 77, 99, 76, 77, 87],\n",
       " [88, 86, 77, 82, 91, 99, 61],\n",
       " [75, 95, 80, 82, 85, 80, 78],\n",
       " [84, 76, 90, 85, 85, 87, 82],\n",
       " [82, 78, 84, 98, 75, 89, 84],\n",
       " [99, 95, 80, 90, 77, 84, 63],\n",
       " [81, 89, 100, 89, 79, 77, 66],\n",
       " [75, 97, 76, 77, 97, 96, 66],\n",
       " [79, 75, 88, 99, 92, 95, 70],\n",
       " [78, 100, 97, 99, 75, 85, 71],\n",
       " [94, 90, 87, 100, 89, 94, 83],\n",
       " [95, 100, 98, 89, 84, 87, 90],\n",
       " [92, 76, 98, 75, 77, 82, 97],\n",
       " [76, 80, 78, 86, 75, 86, 88],\n",
       " [98, 75, 83, 83, 94, 96, 65],\n",
       " [92, 80, 96, 86, 92, 84, 81],\n",
       " [90, 92, 100, 86, 84, 78, 93],\n",
       " [96, 96, 85, 95, 78, 80, 72],\n",
       " [84, 93, 90, 94, 95, 94, 95],\n",
       " [88, 82, 89, 99, 100, 75, 99],\n",
       " [81, 81, 84, 96, 91, 76, 58],\n",
       " [75, 99, 90, 96, 92, 86, 61],\n",
       " [79, 91, 76, 78, 89, 86, 91],\n",
       " [79, 75, 82, 89, 83, 83, 76],\n",
       " [86, 86, 94, 75, 86, 88, 88],\n",
       " [79, 78, 77, 96, 86, 91, 95],\n",
       " [94, 96, 78, 98, 81, 87, 61],\n",
       " [78, 82, 93, 99, 78, 98, 77],\n",
       " [98, 89, 98, 82, 81, 75, 60],\n",
       " [79, 86, 97, 91, 76, 95, 64],\n",
       " [92, 82, 77, 82, 88, 88, 93],\n",
       " [90, 96, 90, 92, 96, 89, 87],\n",
       " [87, 76, 79, 78, 93, 94, 71],\n",
       " [86, 76, 84, 77, 90, 90, 88],\n",
       " [84, 94, 78, 96, 98, 78, 68],\n",
       " [94, 79, 80, 92, 91, 78, 63],\n",
       " [82, 87, 85, 77, 85, 88, 59],\n",
       " [97, 91, 90, 79, 76, 83, 63],\n",
       " [76, 75, 88, 77, 97, 77, 80],\n",
       " [98, 81, 89, 91, 97, 80, 74],\n",
       " [94, 79, 80, 94, 90, 100, 70],\n",
       " [85, 87, 79, 87, 92, 77, 100],\n",
       " [85, 94, 91, 99, 81, 93, 94],\n",
       " [98, 85, 91, 84, 81, 75, 93],\n",
       " [78, 88, 97, 87, 89, 80, 74],\n",
       " [94, 83, 78, 78, 83, 75, 71],\n",
       " [83, 96, 99, 96, 77, 98, 87],\n",
       " [96, 96, 77, 99, 92, 84, 80],\n",
       " [100, 79, 95, 92, 92, 76, 74],\n",
       " [92, 83, 86, 89, 81, 88, 81],\n",
       " [97, 82, 78, 85, 78, 76, 79],\n",
       " [77, 83, 90, 92, 75, 76, 70],\n",
       " [82, 97, 79, 91, 95, 98, 95],\n",
       " [85, 88, 77, 90, 80, 88, 73],\n",
       " [75, 99, 100, 87, 78, 99, 63],\n",
       " [75, 98, 86, 78, 88, 80, 81],\n",
       " [91, 80, 84, 82, 90, 90, 79],\n",
       " [92, 90, 79, 91, 83, 96, 56],\n",
       " [86, 85, 94, 86, 75, 75, 98],\n",
       " [79, 86, 93, 81, 91, 92, 64],\n",
       " [86, 83, 82, 100, 90, 97, 84],\n",
       " [96, 84, 100, 83, 98, 81, 64],\n",
       " [82, 88, 85, 80, 99, 80, 83],\n",
       " [91, 90, 98, 90, 89, 93, 59],\n",
       " [86, 87, 75, 86, 90, 93, 61],\n",
       " [95, 94, 77, 80, 97, 92, 82],\n",
       " [100, 87, 100, 85, 95, 76, 97],\n",
       " [78, 82, 90, 78, 77, 96, 73],\n",
       " [89, 87, 87, 79, 85, 94, 95],\n",
       " [97, 100, 86, 87, 100, 78, 69],\n",
       " [99, 96, 90, 76, 77, 96, 65],\n",
       " [96, 91, 75, 85, 93, 93, 79],\n",
       " [75, 77, 95, 96, 83, 97, 68],\n",
       " [86, 93, 79, 86, 89, 100, 66],\n",
       " [85, 90, 96, 96, 92, 99, 81],\n",
       " [86, 75, 85, 83, 90, 93, 78],\n",
       " [85, 79, 81, 91, 79, 91, 61],\n",
       " [76, 89, 76, 89, 78, 96, 95],\n",
       " [93, 84, 81, 86, 95, 85, 77],\n",
       " [79, 90, 100, 90, 93, 95, 90],\n",
       " [97, 93, 91, 91, 77, 78, 70],\n",
       " [96, 86, 80, 80, 99, 78, 86],\n",
       " [88, 91, 90, 81, 81, 86, 81],\n",
       " [78, 100, 87, 90, 79, 89, 68],\n",
       " [81, 98, 93, 97, 79, 76, 96],\n",
       " [96, 94, 93, 78, 90, 90, 55],\n",
       " [99, 94, 93, 89, 75, 87, 92],\n",
       " [85, 78, 83, 93, 75, 92, 83],\n",
       " [77, 96, 88, 97, 94, 78, 85],\n",
       " [92, 100, 88, 85, 92, 93, 94],\n",
       " [89, 85, 84, 83, 86, 78, 74],\n",
       " [88, 88, 85, 87, 80, 85, 74],\n",
       " [79, 90, 81, 89, 95, 100, 98],\n",
       " [84, 90, 99, 88, 88, 92, 95],\n",
       " [83, 95, 90, 87, 81, 84, 98],\n",
       " [95, 86, 100, 86, 75, 79, 98],\n",
       " [76, 80, 91, 96, 95, 88, 100],\n",
       " [82, 91, 97, 86, 100, 95, 91],\n",
       " [77, 94, 95, 94, 95, 98, 55],\n",
       " [85, 93, 91, 90, 80, 98, 74],\n",
       " [90, 95, 80, 96, 83, 87, 67],\n",
       " [76, 99, 99, 79, 95, 94, 56],\n",
       " [88, 88, 83, 80, 76, 87, 87],\n",
       " [80, 75, 87, 92, 78, 97, 55],\n",
       " [75, 81, 97, 88, 94, 98, 78],\n",
       " [75, 78, 93, 89, 87, 93, 85],\n",
       " [76, 87, 97, 89, 95, 76, 65],\n",
       " [82, 78, 75, 96, 88, 87, 65],\n",
       " [82, 98, 89, 99, 86, 79, 76],\n",
       " [96, 78, 80, 85, 78, 76, 91],\n",
       " [96, 99, 100, 95, 77, 84, 92],\n",
       " [96, 87, 85, 93, 84, 96, 56],\n",
       " [88, 98, 93, 90, 82, 97, 59],\n",
       " [95, 91, 98, 90, 94, 94, 92],\n",
       " [100, 88, 90, 82, 85, 99, 93],\n",
       " [75, 85, 80, 87, 85, 88, 90],\n",
       " [90, 79, 78, 76, 79, 88, 76],\n",
       " [75, 85, 92, 82, 84, 84, 61],\n",
       " [86, 94, 94, 79, 86, 93, 79],\n",
       " [84, 89, 85, 98, 77, 90, 58],\n",
       " [88, 100, 94, 88, 78, 92, 84],\n",
       " [79, 83, 91, 79, 98, 85, 70],\n",
       " [98, 93, 87, 84, 90, 92, 59],\n",
       " [87, 85, 94, 100, 76, 78, 87],\n",
       " [95, 80, 87, 85, 97, 93, 74],\n",
       " [99, 80, 98, 76, 98, 96, 73],\n",
       " [82, 88, 77, 79, 94, 94, 95],\n",
       " [78, 91, 96, 93, 79, 81, 95],\n",
       " [89, 83, 76, 85, 97, 78, 59],\n",
       " [96, 78, 91, 76, 99, 75, 69],\n",
       " [92, 85, 89, 83, 81, 94, 57]]"
      ]
     },
     "execution_count": 62,
     "metadata": {},
     "output_type": "execute_result"
    }
   ],
   "source": [
    "## your algorithm - your code here. \n",
    "gpa_index = -1\n",
    "below_75 = False\n",
    "\n",
    "selection = list() ## create a list to hold the selected applicants\n",
    "\n",
    "for application in applications: \n",
    "    grades = application[0:gpa_index]\n",
    "    \n",
    "    for grade in grades:\n",
    "       if grade < 75:\n",
    "           below_75 = True\n",
    "           break\n",
    "       else:\n",
    "           below_75 = False\n",
    "           \n",
    "    if below_75 == False:\n",
    "        selection.append(application)\n",
    "\n",
    "print(\"Percentage of applicants with at least one grade over 75:\", round(len(selection)/len(applications)*100), \"percent of applicants\")\n",
    "selection"
   ]
  },
  {
   "cell_type": "markdown",
   "metadata": {},
   "source": [
    "Questions to Answer: \n",
    "1. What criteria did you choose to select finalists? How did you choose that criteria?\n",
    "\n",
    "I chose to filter out applicants with at least one grade over 75 given that this is a challenging course load and overall, reflects well on the other grades. I looped over the grades for each applicant and when there was one grade over 75, it included that applicant on the list.\n",
    "\n",
    "\n",
    "2. Roughly what percentage of applicants does your algorithm pass on as finalists? Is that enough? If Moogle asked you to take a more aggressive approach with your algorithm, are there any tradeoffs?\n",
    "\n",
    "Only 3% are finalists, I think that's pretty good overall given that it's a big number of applicants, and though 3% sounds low, it is a good amount of finalists. If I had to take a more aggressive approach, there would be a lower percentage of applicants chosen which isn't too great. "
   ]
  },
  {
   "cell_type": "markdown",
   "metadata": {},
   "source": [
    "___\n",
    "While our data seemed to perfectly reported and without any inconsitencies, the world is less perfect. Consider the following scenarios: \n",
    "\n",
    "___\n",
    "*Story 1*: Misread the Instructions\n",
    "What if an excellent applicant thinks they should put in letter grades?\n",
    "\n",
    "`[‘A’, ‘A’, ‘A’, ‘A’, ‘A’, ‘A’, ‘A’]`\n",
    "\n",
    ". . . or how about their grades on 4-point scale?\n",
    "\n",
    "`[4, 3.9, 4, 4, 3.95, 4, 3.9]`\n",
    "\n",
    "___\n",
    "*Story 2*: Bad Assumptions\n",
    "What if one of your applicants skipped Intro to Computer Science? When they saw your form, they froze, and decided that putting -1 in the input field would make it obvious. . .\n",
    "\n",
    "`[-1, 95, 99, 94, 96, 98, 95]`\n",
    "\n",
    "___\n",
    "*Story 3*: Mistake in the Input\n",
    "What if one of your applicants accidentally put in a number > 100?\n",
    "\n",
    "`[681, 68, 73, 70, 81, 91, 59]`\n",
    "\n",
    "That might seem easy enough for a program to catch, but what if they accidentally dropped a 0?\n",
    "\n",
    "`[100, 100, 100, 100, 100, 100, 10]`\n",
    "\n",
    "A person would catch that mistake easily, does your algorithm?\n",
    "\n",
    "___\n",
    "*Story 4*: The Awful Semester\n",
    "What if your applicant had a medical emergency one semester? Or a personal tragedy?\n",
    "\n",
    "`[95, 93, 50, 91, 98, 90, 90]`\n",
    "\n",
    "___\n",
    "*Story 5*: Inverse Trajectories\n",
    "What if one of your applicants came from an underprivileged background and really struggled at the beginning of college. . . but showed extraordinary growth by the end?\n",
    "\n",
    "`[65, 75, 85, 95, 100, 100, 80]`\n",
    "\n",
    "What if one of your applicants came to college with extraordinary potential? They easily aced their first few classes and then gradually grew apathetic about their education - getting nothing but barely-passing grades by the time they were a senior?\n",
    "\n",
    "`[100, 100, 95, 85, 75, 65, 80]`\n",
    "\n",
    "Does your algorithm treat them equally?\n",
    "\n",
    "___"
   ]
  },
  {
   "cell_type": "markdown",
   "metadata": {},
   "source": [
    "Complete the following questions reflecting on these scenarios:\n",
    "\n",
    "3. What systemic advantages/disadvantages are your algorithms likely to amplify?\n",
    "\n",
    "The systematic disadvantages my algorithm is likely to amplify is the fact that it choosen an applicant based off of one grade and that may not be reflected on the other grades, it might've been their lowest or highest grade. \n",
    "\n",
    "\n",
    "\n",
    "4. If you had access to additional data beyond grades (e.g., extracurricular activities, internships, letters of recommendation), how might you incorporate it into your selection process? Would it make your algorithm fairer or introduce new biases?\n",
    "\n",
    "\n",
    "I would like to see the number of letters of recommendations and look at the positive characters within those letters to get a better understanding of how that student is described. I think it may introduce new biases however given that some students may not have been able to take advantage of the same opportunities or in as many opportunities as other students due to family responsibilities. \n",
    "\n",
    "\n",
    "\n",
    "5. How do current hiring filter algorithms work? What problems do they encounter? How do these algorithms broadly compare to the ones we wrote today? (Some example articles discussing hiring filters linked below in citations but you're not limited to these examples) \n",
    "\n",
    "\n",
    "In the example of the Amazon recruiting tool, there was a bias against women given that more male applicants were in the pool and the algorithm trained itself to believe that male applicants were superior to female applicants. This is a huge problem because the algorithm learns through patterns and these patterns reflect discrimination in workplaces which he hiring process is an important step in working against this.\n",
    "\n",
    "\n",
    "6. What does it mean to design a fair algorithm?\n",
    "\n",
    "\n",
    "Designing a fair algorithm involves taking into account every aspect of natural patterns in the world that are placed as a cause of underresourced communities or simply a lack of a certain group of people in specific fields that may train the algorithm to think of one group better fit for one job than another taking into account these patterns more than other factors. Fair algorithms should understand the various factors and challenges that people face which is case-by-case dependent. \n"
   ]
  },
  {
   "cell_type": "markdown",
   "metadata": {},
   "source": [
    "Citations: \n",
    "\n",
    "Stacy A. Doore, Casey Fiesler, Michael S. Kirkpatrick, Evan Peck, and Mehran Sahami. 2020. Assignments that Blend Ethics and Technology. In Proceedings of the 51st ACM Technical Symposium on Computer Science Education (SIGCSE ‘20). Association for Computing Machinery, New York, NY, USA, 475–476. DOI:https://doi.org/10.1145/3328778.3366994\n",
    "\n",
    "[Amazon scraps secret AI recruiting tool that showed bias against women](https://www.reuters.com/article/us-amazon-com-jobs-automation-insight/amazon-scraps-secret-ai-recruiting-tool-that-showed-bias-against-women-idUSKCN1MK08G/)\n",
    "\n",
    "[Hiring Algorithms Are Not Neutral](https://hbr.org/2016/12/hiring-algorithms-are-not-neutral)\n",
    "\n",
    "[Can an Algorithm Hire Better Than a Human?](https://www.nytimes.com/2015/06/26/upshot/can-an-algorithm-hire-better-than-a-human.html)\n",
    "\n",
    "[Algorithms in Hiring](https://blog.learningcollider.org/algorithms-in-hiring-6760ea8869b)\n",
    "\n",
    "[Exploration-based algorithms can improve hiring quality and diversity](https://mitsloan.mit.edu/ideas-made-to-matter/exploration-based-algorithms-can-improve-hiring-quality-and-diversity)\n",
    "\n",
    "[AI hiring tools may be filtering out the best job applicants](https://www.bbc.com/worklife/article/20240214-ai-recruiting-hiring-software-bias-discrimination)\n",
    "\n",
    "[Challenges for mitigating bias in algorithmic hiring](https://www.brookings.edu/articles/challenges-for-mitigating-bias-in-algorithmic-hiring/)\n",
    "\n"
   ]
  }
 ],
 "metadata": {
  "kernelspec": {
   "display_name": "Python 3 (ipykernel)",
   "language": "python",
   "name": "python3"
  },
  "language_info": {
   "codemirror_mode": {
    "name": "ipython",
    "version": 3
   },
   "file_extension": ".py",
   "mimetype": "text/x-python",
   "name": "python",
   "nbconvert_exporter": "python",
   "pygments_lexer": "ipython3",
   "version": "3.12.6"
  }
 },
 "nbformat": 4,
 "nbformat_minor": 4
}
